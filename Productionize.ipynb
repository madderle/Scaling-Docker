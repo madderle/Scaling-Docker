{
 "cells": [
  {
   "cell_type": "markdown",
   "metadata": {},
   "source": [
    "# Productionize Script\n",
    "\n",
    "### Goals\n",
    "\n",
    "1. Find services with Volume mounts, create new images with code packaged in them\n",
    "2. Add secrets.entrypoint.sh to every service that has environment variables.\n",
    "3. Separate the services into n separate docker files\n"
   ]
  },
  {
   "cell_type": "code",
   "execution_count": 52,
   "metadata": {},
   "outputs": [],
   "source": [
    "import os\n",
    "import subprocess\n",
    "import time\n",
    "import yaml\n",
    "import re\n",
    "import json\n",
    "import docker\n",
    "client = docker.from_env()"
   ]
  },
  {
   "cell_type": "code",
   "execution_count": 54,
   "metadata": {},
   "outputs": [
    {
     "data": {
      "text/plain": [
       "'1523028430'"
      ]
     },
     "execution_count": 54,
     "metadata": {},
     "output_type": "execute_result"
    }
   ],
   "source": [
    "# Generate version number for built\n",
    "version = str(int(time.time()))\n",
    "version"
   ]
  },
  {
   "cell_type": "code",
   "execution_count": 57,
   "metadata": {},
   "outputs": [],
   "source": [
    "user_name = config['user_name']"
   ]
  },
  {
   "cell_type": "code",
   "execution_count": 69,
   "metadata": {},
   "outputs": [],
   "source": [
    "#Set input file\n",
    "input_file = config['compose_file']"
   ]
  },
  {
   "cell_type": "code",
   "execution_count": 248,
   "metadata": {},
   "outputs": [],
   "source": [
    "# Load the services from the input docker-compose.yml file.\n",
    "stack = yaml.load(open(input_file))"
   ]
  },
  {
   "cell_type": "code",
   "execution_count": 238,
   "metadata": {},
   "outputs": [
    {
     "data": {
      "text/plain": [
       "{'data_store': {'image': 'redis:alpine'},\n",
       " 'db-data': {'container_name': 'mongodb_02',\n",
       "  'environment': ['MONGO_INITDB_ROOT_USERNAME=${MONGO_INITDB_ROOT_USERNAME}',\n",
       "   'MONGO_INITDB_ROOT_PASSWORD=${MONGO_INITDB_ROOT_PASSWORD}'],\n",
       "  'image': 'mongo:3.6.0',\n",
       "  'ports': ['27018:27018'],\n",
       "  'restart': 'always',\n",
       "  'volumes': ['./data-producers/db-data:/data/db']},\n",
       " 'iex': {'command': \"jupyter-notebook --no-browser --port 7777 --ip='*' --allow-root\",\n",
       "  'container_name': 'iex_02',\n",
       "  'depends_on': ['data_store'],\n",
       "  'environment': ['MONGODB_USER=${MONGO_INITDB_ROOT_USERNAME}',\n",
       "   'MONGODB_PASS=${MONGO_INITDB_ROOT_PASSWORD}'],\n",
       "  'image': 'madderle/scaling-docker:data-producer-1.0',\n",
       "  'ports': ['7777:7777'],\n",
       "  'volumes': ['./data-producers/IEX:/home/ds']},\n",
       " 'twitter': {'command': \"jupyter-notebook --no-browser --port 9999 --ip='*' --allow-root\",\n",
       "  'container_name': 'twitter_02',\n",
       "  'depends_on': ['data_store'],\n",
       "  'environment': ['MONGODB_USER=${MONGO_INITDB_ROOT_USERNAME}',\n",
       "   'MONGODB_PASS=${MONGO_INITDB_ROOT_PASSWORD}'],\n",
       "  'image': 'madderle/scaling-docker:data-producer-1.0',\n",
       "  'ports': ['9999:9999'],\n",
       "  'volumes': ['./data-producers/Twitter:/home/ds']}}"
      ]
     },
     "execution_count": 238,
     "metadata": {},
     "output_type": "execute_result"
    }
   ],
   "source": [
    "stack[\"services\"]"
   ]
  },
  {
   "cell_type": "code",
   "execution_count": 239,
   "metadata": {},
   "outputs": [
    {
     "data": {
      "text/plain": [
       "'./data-producers/Twitter:/home/ds'"
      ]
     },
     "execution_count": 239,
     "metadata": {},
     "output_type": "execute_result"
    }
   ],
   "source": [
    "stack['services']['twitter']['volumes'][0]"
   ]
  },
  {
   "cell_type": "code",
   "execution_count": 53,
   "metadata": {},
   "outputs": [
    {
     "data": {
      "text/plain": [
       "'scaling-docker'"
      ]
     },
     "execution_count": 53,
     "metadata": {},
     "output_type": "execute_result"
    }
   ],
   "source": [
    "################ Configuration ########################\n",
    "\n",
    "# Get Project Name\n",
    "project_name = os.path.basename(os.path.realpath(\".\")).lower()\n",
    "\n",
    "# Read JSON File\n",
    "config = json.load(open('production_configuration.json'))\n",
    "\n",
    "#Set input file\n",
    "input_file = config['compose_file']\n",
    "\n",
    "# Load the services from the input docker-compose.yml file.\n",
    "stack = yaml.load(open(input_file))\n"
   ]
  },
  {
   "cell_type": "code",
   "execution_count": 245,
   "metadata": {},
   "outputs": [],
   "source": [
    "# Iterate over all the services that have a volume\n",
    "# Need to figure out a way to add code. This can be done in teh dockerfile. Maybe need to have 2 Dockerfiles. 1 for Development and 1 for production. \n",
    "\n",
    "#This function need to include multiple things:\n",
    "# FROM image name\n",
    "# Add Volume Data\n",
    "# COPY Entry Point script if have environment variables\n",
    "# Set entry point script if have environment variables\n",
    "\n",
    "def build_volume(input):\n",
    "    output = ''\n",
    "    #print(input)\n",
    "    if input:\n",
    "        source = input.split(\":\")[0]\n",
    "        destination = input.split(\":\")[1]\n",
    "        output = \"\\nADD \" + source + ' ' + destination\n",
    "    \n",
    "    return output\n",
    "\n",
    "def build_environment(environment):\n",
    "    output = ''\n",
    "    if environment:\n",
    "        copy = '\\nCOPY ./secrets-entrypoint.sh /secrets-entrypoint.sh'\n",
    "\n",
    "        entry = '\\nENTRYPOINT [\"/secrets-entrypoint.sh\"]'\n",
    "        \n",
    "    return copy+entry\n",
    "\n",
    "def build_docker_file(filename, image_name, volume, environment):\n",
    "    file = open(filename,\"w\")\n",
    "    file.write(\"FROM \" + image_name )\n",
    "    file.write(\"\\n\" + volume)\n",
    "    file.write(\"\\n\"+ environment)\n",
    "    file.close()"
   ]
  },
  {
   "cell_type": "code",
   "execution_count": 223,
   "metadata": {},
   "outputs": [
    {
     "data": {
      "text/plain": [
       "'./data-producers/Twitter:/home/ds'"
      ]
     },
     "execution_count": 223,
     "metadata": {},
     "output_type": "execute_result"
    }
   ],
   "source": [
    "volume = stack['services']['twitter']['volumes'][0]\n",
    "# volume_check = build_volume(volume)\n",
    "# volume_check\n",
    "volume"
   ]
  },
  {
   "cell_type": "code",
   "execution_count": 249,
   "metadata": {},
   "outputs": [
    {
     "name": "stdout",
     "output_type": "stream",
     "text": [
      "Building Docker file for twitter...\n",
      "Building madderle/scaling-docker:twitter-production-1523046012...\n",
      "Built Successfully!\n",
      "Pushing madderle/scaling-docker:twitter-production-1523046012...\n",
      "Pushed Successfully!\n",
      "Building Docker file for iex...\n",
      "Building madderle/scaling-docker:iex-production-1523046012...\n",
      "Built Successfully!\n",
      "Pushing madderle/scaling-docker:iex-production-1523046012...\n",
      "Pushed Successfully!\n",
      "Building Docker file for db-data...\n",
      "Building madderle/scaling-docker:db-data-production-1523046012...\n",
      "Built Successfully!\n",
      "Pushing madderle/scaling-docker:db-data-production-1523046012...\n",
      "Pushed Successfully!\n"
     ]
    }
   ],
   "source": [
    "##################### Build Docker Images ##########################################\n",
    "\n",
    "services = stack[\"services\"]\n",
    "version = str(int(time.time()))\n",
    "# Find out the services that need to be rebuilt and create docker files. \n",
    "\n",
    "build_operation = {}\n",
    "\n",
    "\n",
    "for service_name, service in services.items():\n",
    "    build = False\n",
    "    volume_file_output=''\n",
    "    environment=''\n",
    "    \n",
    "    # Check to see if have volume\n",
    "    if \"volumes\" in service and 'db' not in service_name:\n",
    "        volume = service['volumes'][0]\n",
    "        \n",
    "        source = volume.split(\":\")[0]\n",
    "        destination = volume.split(\":\")[1]\n",
    "        volume_file_output = \"\\nADD \" + source + ' ' + destination\n",
    "        build = True\n",
    "        del service['volumes']\n",
    "    \n",
    "    # Check to see if have environment\n",
    "    if \"environment\" in service:\n",
    "        environment = build_environment(True)\n",
    "        build = True\n",
    "        del service['environment']\n",
    "    \n",
    "    if build==True:\n",
    "        image_name = service['image']\n",
    "        folder = './Production_Images/{}'.format(service_name)\n",
    "        # Make folder if dont exist\n",
    "        if not os.path.exists(folder):\n",
    "            os.makedirs(folder)\n",
    "        filename = 'Dockerfile'\n",
    "        full_path = folder + '/' + filename\n",
    "        \n",
    "        # Create Docker files\n",
    "        print('Building Docker file for {}...'.format(service_name))\n",
    "        build_docker_file(full_path, image_name, volume_file_output, environment)\n",
    "        hub_image = \"{}/{}:{}-production-{}\".format(user_name, project_name, service_name, version)\n",
    "        \n",
    "        # Code to build the image\n",
    "        print('Building {}...'.format(hub_image))\n",
    "        client.images.build(path='.', tag=hub_image, dockerfile=full_path)\n",
    "        print('Built Successfully!')\n",
    "                   \n",
    "        # Code to push the image to dockerhub\n",
    "        print('Pushing {}...'.format(hub_image))\n",
    "        client.images.push(repository='{}/{}'.format(user_name, project_name), tag='{}-production-{}'.format(service_name, version))\n",
    "        print('Pushed Successfully!')\n",
    "                \n",
    "        # Update the image\n",
    "        service['image'] = hub_image"
   ]
  },
  {
   "cell_type": "code",
   "execution_count": 250,
   "metadata": {},
   "outputs": [
    {
     "data": {
      "text/plain": [
       "{'data_store': {'image': 'redis:alpine'},\n",
       " 'db-data': {'container_name': 'mongodb_02',\n",
       "  'image': 'madderle/scaling-docker:db-data-production-1523046012',\n",
       "  'ports': ['27018:27018'],\n",
       "  'restart': 'always',\n",
       "  'volumes': ['./data-producers/db-data:/data/db']},\n",
       " 'iex': {'command': \"jupyter-notebook --no-browser --port 7777 --ip='*' --allow-root\",\n",
       "  'container_name': 'iex_02',\n",
       "  'depends_on': ['data_store'],\n",
       "  'image': 'madderle/scaling-docker:iex-production-1523046012',\n",
       "  'ports': ['7777:7777']},\n",
       " 'twitter': {'command': \"jupyter-notebook --no-browser --port 9999 --ip='*' --allow-root\",\n",
       "  'container_name': 'twitter_02',\n",
       "  'depends_on': ['data_store'],\n",
       "  'image': 'madderle/scaling-docker:twitter-production-1523046012',\n",
       "  'ports': ['9999:9999']}}"
      ]
     },
     "execution_count": 250,
     "metadata": {},
     "output_type": "execute_result"
    }
   ],
   "source": [
    "# Output to separate compose files based on CSV of which services should be together\n",
    "# Have to copy the stack into a temporary variable and then remove the services  not included\n",
    "# Then output stack to a file, and then clean up the fil to make it not buggy.\n",
    "services"
   ]
  },
  {
   "cell_type": "code",
   "execution_count": 156,
   "metadata": {},
   "outputs": [],
   "source": [
    "# Reset the stack services to the new updated ones\n",
    "stack = yaml.load(open(input_file))\n",
    "stack['services'] = services"
   ]
  },
  {
   "cell_type": "code",
   "execution_count": 104,
   "metadata": {},
   "outputs": [
    {
     "data": {
      "text/plain": [
       "list"
      ]
     },
     "execution_count": 104,
     "metadata": {},
     "output_type": "execute_result"
    }
   ],
   "source": [
    "type(config['services'])"
   ]
  },
  {
   "cell_type": "code",
   "execution_count": 105,
   "metadata": {},
   "outputs": [
    {
     "data": {
      "text/plain": [
       "[{'data_producers': ['twitter', 'iex'],\n",
       "  'database': ['db-data'],\n",
       "  'redis': ['data_store']}]"
      ]
     },
     "execution_count": 105,
     "metadata": {},
     "output_type": "execute_result"
    }
   ],
   "source": [
    "config['services']"
   ]
  },
  {
   "cell_type": "code",
   "execution_count": 157,
   "metadata": {},
   "outputs": [
    {
     "data": {
      "text/plain": [
       "{'services': {'data_store': {'image': 'redis:alpine'},\n",
       "  'db-data': {'container_name': 'mongodb_02',\n",
       "   'environment': ['MONGO_INITDB_ROOT_USERNAME=${MONGO_INITDB_ROOT_USERNAME}',\n",
       "    'MONGO_INITDB_ROOT_PASSWORD=${MONGO_INITDB_ROOT_PASSWORD}'],\n",
       "   'image': 'mongo:3.6.0',\n",
       "   'ports': ['27018:27018'],\n",
       "   'restart': 'always',\n",
       "   'volumes': ['./data-producers/db-data:/data/db']},\n",
       "  'iex': {'command': \"jupyter-notebook --no-browser --port 7777 --ip='*' --allow-root\",\n",
       "   'container_name': 'iex_02',\n",
       "   'depends_on': ['data_store'],\n",
       "   'image': 'madderle/scaling-docker:iex-production-1523028430',\n",
       "   'ports': ['7777:7777']},\n",
       "  'twitter': {'command': \"jupyter-notebook --no-browser --port 9999 --ip='*' --allow-root\",\n",
       "   'container_name': 'twitter_02',\n",
       "   'depends_on': ['data_store'],\n",
       "   'image': 'madderle/scaling-docker:twitter-production-1523028430',\n",
       "   'ports': ['9999:9999']}},\n",
       " 'version': '2'}"
      ]
     },
     "execution_count": 157,
     "metadata": {},
     "output_type": "execute_result"
    }
   ],
   "source": [
    "stack"
   ]
  },
  {
   "cell_type": "code",
   "execution_count": 165,
   "metadata": {},
   "outputs": [
    {
     "data": {
      "text/plain": [
       "{'command': \"jupyter-notebook --no-browser --port 9999 --ip='*' --allow-root\",\n",
       " 'container_name': 'twitter_02',\n",
       " 'depends_on': ['data_store'],\n",
       " 'image': 'madderle/scaling-docker:twitter-production-1523028430',\n",
       " 'ports': ['9999:9999']}"
      ]
     },
     "execution_count": 165,
     "metadata": {},
     "output_type": "execute_result"
    }
   ],
   "source": [
    "stack['services']['twitter']"
   ]
  },
  {
   "cell_type": "code",
   "execution_count": 166,
   "metadata": {},
   "outputs": [
    {
     "name": "stdout",
     "output_type": "stream",
     "text": [
      "Creating docker file: data_producers_docker_compose.yml\n",
      "File Built Successfully\n",
      "Creating docker file: redis_docker_compose.yml\n",
      "File Built Successfully\n",
      "Creating docker file: database_docker_compose.yml\n",
      "File Built Successfully\n"
     ]
    }
   ],
   "source": [
    "# Goal want to remove all services from stack not found in the items list\n",
    "# Reset the stack services to the new updated ones\n",
    "# stack = yaml.load(open(input_file))\n",
    "# stack['services'] = services\n",
    "\n",
    "for service_list in config['services']:\n",
    "    for key, value in service_list.items():\n",
    "        temp_stack = {}\n",
    "        temp_stack['services'] = {}\n",
    "        temp_stack['version'] = stack['version']\n",
    "        \n",
    "        # Add services\n",
    "        for service in value:\n",
    "            temp_stack['services'][service] = stack['services'][service]\n",
    "           # Check depend on. If not in list, then need to remove\n",
    "            try:\n",
    "                if stack['services'][service]['depends_on'] not in value:\n",
    "                    del temp_stack['services'][service]['depends_on']\n",
    "            except:\n",
    "                pass\n",
    "                    \n",
    "        # output yaml file using key in filename\n",
    "        output_file = '{}_docker_compose.yml'.format(key)\n",
    "        print('Creating docker file: {}'.format(output_file))\n",
    "        with open(output_file, \"w\") as f:\n",
    "            yaml.safe_dump(temp_stack, f, default_flow_style=False)\n",
    "        # yaml that is produced is a bit buggy.\n",
    "        fh = open(output_file, \"r+\")\n",
    "        lines = map(lambda a: re.sub(r\"^\\s{4}-\", \"      -\", a), fh.readlines())\n",
    "        fh.close()\n",
    "        with open(output_file, \"w\") as f:\n",
    "            f.writelines(lines)\n",
    "        print('File Built Successfully')\n"
   ]
  },
  {
   "cell_type": "code",
   "execution_count": 163,
   "metadata": {},
   "outputs": [
    {
     "data": {
      "text/plain": [
       "{'services': {'db-data': {'container_name': 'mongodb_02',\n",
       "   'environment': ['MONGO_INITDB_ROOT_USERNAME=${MONGO_INITDB_ROOT_USERNAME}',\n",
       "    'MONGO_INITDB_ROOT_PASSWORD=${MONGO_INITDB_ROOT_PASSWORD}'],\n",
       "   'image': 'mongo:3.6.0',\n",
       "   'ports': ['27018:27018'],\n",
       "   'restart': 'always',\n",
       "   'volumes': ['./data-producers/db-data:/data/db']}},\n",
       " 'version': '2'}"
      ]
     },
     "execution_count": 163,
     "metadata": {},
     "output_type": "execute_result"
    }
   ],
   "source": [
    "temp_stack"
   ]
  },
  {
   "cell_type": "markdown",
   "metadata": {},
   "source": [
    "## Real Script"
   ]
  },
  {
   "cell_type": "code",
   "execution_count": null,
   "metadata": {},
   "outputs": [],
   "source": [
    "########################## Imports ################################\n",
    "import os\n",
    "import subprocess\n",
    "import time\n",
    "import yaml\n",
    "import re\n",
    "import json\n",
    "import docker\n",
    "client = docker.from_env()"
   ]
  },
  {
   "cell_type": "code",
   "execution_count": null,
   "metadata": {},
   "outputs": [],
   "source": [
    "################ Configuration ########################\n",
    "\n",
    "# Get Project Name\n",
    "project_name = os.path.basename(os.path.realpath(\".\")).lower()\n",
    "\n",
    "# Read JSON File\n",
    "config = json.load(open('production_configuration.json'))\n",
    "\n",
    "#Set input file\n",
    "input_file = config['compose_file']\n",
    "\n",
    "# Load the services from the input docker-compose.yml file.\n",
    "stack = yaml.load(open(input_file))"
   ]
  },
  {
   "cell_type": "code",
   "execution_count": null,
   "metadata": {},
   "outputs": [],
   "source": [
    "##################### Build Docker Images #################\n",
    "\n",
    "def build_docker_file(filename, image_name, source, destination):\n",
    "    file = open(filename,\"w\")\n",
    "    file.write(\"FROM \" + image_name )\n",
    "    file.write(\"\\nADD \" + source + ' ' + destination)\n",
    "    file.close()\n",
    "    \n",
    "services = stack[\"services\"]\n",
    "version = str(int(time.time()))\n",
    "# Find out the services that need to be rebuilt and create docker files. \n",
    "\n",
    "for service_name, service in services.items():\n",
    "    if \"volumes\" in service and 'db' not in service_name:\n",
    "        volume = service['volumes'][0]\n",
    "        source = volume.split(\":\")[0]\n",
    "        destination = volume.split(\":\")[1]\n",
    "        image_name = service['image']\n",
    "        folder = './Production_Images/{}'.format(service_name)\n",
    "        # Make folder if dont exist\n",
    "        if not os.path.exists(folder):\n",
    "            os.makedirs(folder)\n",
    "        filename = 'Dockerfile'\n",
    "        full_path = folder + '/' + filename\n",
    "        \n",
    "        # Create Docker files\n",
    "        build_docker_file(full_path, image_name, source, destination)\n",
    "        hub_image = \"{}/{}:{}-production-{}\".format(user_name, project_name, service_name, version)\n",
    "        \n",
    "        # Code to build the image\n",
    "        print('Building {}...'.format(hub_image))\n",
    "        client.images.build(path='.', tag=hub_image, dockerfile=full_path)\n",
    "        print('Built Successfully!')\n",
    "                   \n",
    "        # Code to push the image to dockerhub\n",
    "        print('Pushing {}...'.format(hub_image))\n",
    "        client.images.push(repository='{}/{}'.format(user_name, project_name), tag='{}-production-{}'.format(service_name, version))\n",
    "        print('Pushed Successfully!')\n",
    "        # Delete the environment variables\n",
    "        try:\n",
    "            del service['environment']\n",
    "        except:\n",
    "            pass\n",
    "        \n",
    "        \n",
    "        # Delete the volumes\n",
    "        del service['volumes']\n",
    "        # Update the image\n",
    "        service['image'] = hub_image   "
   ]
  },
  {
   "cell_type": "code",
   "execution_count": null,
   "metadata": {},
   "outputs": [],
   "source": [
    "# Reset the stack services to the new updated ones\n",
    "#stack = yaml.load(open(input_file))\n",
    "stack['services'] = services"
   ]
  },
  {
   "cell_type": "code",
   "execution_count": null,
   "metadata": {},
   "outputs": [],
   "source": [
    "######################## Build Compose File ###################################\n",
    "for service_list in config['services']:\n",
    "    for key, value in service_list.items():\n",
    "        temp_stack = {}\n",
    "        temp_stack['services'] = {}\n",
    "        temp_stack['version'] = stack['version']\n",
    "        \n",
    "        # Add services\n",
    "        for service in value:\n",
    "            temp_stack['services'][service] = stack['services'][service]\n",
    "           # Check depend on. If not in list, then need to remove\n",
    "            try:\n",
    "                if stack['services'][service]['depends_on'] not in value:\n",
    "                    del temp_stack['services'][service]['depends_on']\n",
    "            except:\n",
    "                pass\n",
    "                    \n",
    "        # output yaml file using key in filename\n",
    "        output_file = '{}_docker_compose.yml'.format(key)\n",
    "        print('Creating docker file: {}'.format(output_file))\n",
    "        with open(output_file, \"w\") as f:\n",
    "            yaml.safe_dump(temp_stack, f, default_flow_style=False)\n",
    "        # yaml that is produced is a bit buggy.\n",
    "        fh = open(output_file, \"r+\")\n",
    "        lines = map(lambda a: re.sub(r\"^\\s{4}-\", \"      -\", a), fh.readlines())\n",
    "        fh.close()\n",
    "        with open(output_file, \"w\") as f:\n",
    "            f.writelines(lines)\n",
    "        print('File Built Successfully')"
   ]
  }
 ],
 "metadata": {
  "kernelspec": {
   "display_name": "Python 3",
   "language": "python",
   "name": "python3"
  },
  "language_info": {
   "codemirror_mode": {
    "name": "ipython",
    "version": 3
   },
   "file_extension": ".py",
   "mimetype": "text/x-python",
   "name": "python",
   "nbconvert_exporter": "python",
   "pygments_lexer": "ipython3",
   "version": "3.6.1"
  }
 },
 "nbformat": 4,
 "nbformat_minor": 2
}
